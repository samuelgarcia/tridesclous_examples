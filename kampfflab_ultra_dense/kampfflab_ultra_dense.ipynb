{
 "cells": [
  {
   "cell_type": "markdown",
   "metadata": {},
   "source": [
    "# Kampff lab - Ultra dense survey\n",
    "\n",
    "\n",
    "Here a description of the dataset:\n",
    "http://www.kampff-lab.org/ultra-dense-survey/\n",
    "\n",
    "Here the official publication of this open dataset:\n",
    "https://crcns.org/data-sets/methods/hdr-1/about-hdr-1\n",
    "\n",
    "And a paper is being preparing here:\n",
    "https://doi.org/10.1101/275818\n",
    "\n",
    "\n",
    "## Introduction\n",
    "\n",
    "This dataset explore optimal size and density of electrodes.\n",
    "\n",
    "Here 255 extracellular electrodes (5 x 5 μm and spacing of 1 μm) \n",
    "\n",
    "## Download\n",
    "\n",
    "Dataset must downloaded locally and manually from crcns or from the google drive in **\"workdir\"** path.\n"
   ]
  },
  {
   "cell_type": "markdown",
   "metadata": {},
   "source": [
    "## The PRB file\n",
    "tridesclous need a PRB file that describe the geometry of probe.\n",
    "\n",
    "Create it by copy/paste or download it via github."
   ]
  },
  {
   "cell_type": "code",
   "execution_count": 2,
   "metadata": {},
   "outputs": [],
   "source": [
    "# suposing the datset is downloaded here\n",
    "workdir = '/media/samuel/dataspikesorting/DataSpikeSortingHD2/kampff/ultra dense/'\n",
    "filename = workdir + 'T2/amplifier2017-02-08T21_38_55.bin'\n"
   ]
  },
  {
   "cell_type": "code",
   "execution_count": 3,
   "metadata": {},
   "outputs": [],
   "source": [
    "#%matplotlib inline\n",
    "%matplotlib qt5\n",
    "import numpy as np\n",
    "import matplotlib.pyplot as plt\n",
    "import tridesclous as tdc\n",
    "from tridesclous import DataIO, CatalogueConstructor, Peeler\n",
    "import os, shutil"
   ]
  },
  {
   "cell_type": "markdown",
   "metadata": {},
   "source": [
    "## create a DataIO (and remove if already exists)"
   ]
  },
  {
   "cell_type": "code",
   "execution_count": 5,
   "metadata": {},
   "outputs": [
    {
     "name": "stdout",
     "output_type": "stream",
     "text": [
      "DataIO <id: 140336603185104> \n",
      "  workdir: /media/samuel/dataspikesorting/DataSpikeSortingHD2/kampff/ultra dense/tdc_amplifier2017-02-02T17_18_46\n",
      "  sample_rate: 20000.0\n",
      "  total_channel: 256\n",
      "  channel_groups: 0 [ch0 ch1 ch2 ch3 ... ch252 ch253 ch254 ch255]\n",
      "  nb_segment: 1\n",
      "  length: 32840000\n",
      "  durations: 1642.0 s.\n"
     ]
    }
   ],
   "source": [
    "dirname = workdir + 'tdc_amplifier2017-02-02T17_18_46'\n",
    "\n",
    "if os.path.exists(dirname):\n",
    "    #remove is already exists\n",
    "    shutil.rmtree(dirname)\n",
    "    \n",
    "dataio = DataIO(dirname=dirname)\n",
    "\n",
    "# feed DataIO with one file\n",
    "dataio.set_data_source(type='RawData', filenames=[filename], sample_rate=20000., dtype='int16', total_channel=256)\n",
    "print(dataio)\n",
    "\n",
    "# set the probe file\n",
    "dataio.set_probe_file('kampff_ultra_dense_256.prb')"
   ]
  },
  {
   "cell_type": "markdown",
   "metadata": {},
   "source": [
    "# CatalogueConstructor"
   ]
  },
  {
   "cell_type": "code",
   "execution_count": 11,
   "metadata": {},
   "outputs": [
    {
     "name": "stdout",
     "output_type": "stream",
     "text": [
      "noise_duration 10.0\n",
      "estimate_signals_noise 10.143584636000014\n",
      "run_signalprocessor 15.884086654001294\n",
      "compute_all_centroid 2.011347258998285\n",
      "extract_some_waveforms 2.3630568590015173\n",
      "compute_all_centroid 2.033419290000893\n",
      "clean_waveforms 2.21694087799915\n",
      "extract_some_noise 0.07785668599899509\n",
      "CatalogueConstructor\n",
      "  chan_grp 0 - ch0 ch1 ch2 ... ch254 ch255\n",
      "  nb_peak_by_segment: 1445\n",
      "  some_waveforms.shape: (1445, 50, 255)\n",
      "  cluster_labels [0]\n",
      "\n",
      "project 9.560824283998954\n",
      "compute_all_centroid 0.38962368200009223\n",
      "order_clusters waveforms_rms\n",
      "find_clusters 5.9205558040011965\n",
      "CatalogueConstructor\n",
      "  chan_grp 0 - ch0 ch1 ch2 ... ch254 ch255\n",
      "  nb_peak_by_segment: 1445\n",
      "  some_waveforms.shape: (1445, 50, 255)\n",
      "  some_features.shape: (1445, 5)\n",
      "  cluster_labels [-1  0  1]\n",
      "\n"
     ]
    }
   ],
   "source": [
    "cc = CatalogueConstructor(dataio=dataio, chan_grp=0)\n",
    "\n",
    "fullchain_kargs = {\n",
    "    'duration' : 10,\n",
    "    'preprocessor' : {\n",
    "        'highpass_freq' : 400.,\n",
    "        'lowpass_freq' : 5000.,\n",
    "        'smooth_size' : 0,\n",
    "        'chunksize' : 1024,\n",
    "        'lostfront_chunksize' : 128,\n",
    "        'signalpreprocessor_engine' : 'opencl',\n",
    "    },\n",
    "    'peak_detector' : {\n",
    "        'peakdetector_engine' : 'numpy',\n",
    "        'peak_sign' : '-',\n",
    "        'relative_threshold' : 5.,\n",
    "        'peak_span' : 0.0002,\n",
    "    },\n",
    "    'noise_snippet' : {\n",
    "        'nb_snippet' : 300,\n",
    "    },\n",
    "    'extract_waveforms' : {\n",
    "        'n_left' : -20,\n",
    "        'n_right' : 30,\n",
    "        'mode' : 'rand',\n",
    "        'nb_max' : 20000,\n",
    "        'align_waveform' : False,\n",
    "    },\n",
    "    'clean_waveforms' : {\n",
    "        'alien_value_threshold' : 100.,\n",
    "    },\n",
    "  }\n",
    "feat_method = 'global_pca'\n",
    "feat_kargs = {'n_components': 5}\n",
    "clust_method = 'sawchaincut'\n",
    "clust_kargs = {}\n",
    "      \n",
    "tdc.apply_all_catalogue_steps(cc, fullchain_kargs, \n",
    "        feat_method, feat_kargs,clust_method, clust_kargs)\n",
    "\n",
    "\n",
    "print(cc)"
   ]
  },
  {
   "cell_type": "code",
   "execution_count": 12,
   "metadata": {},
   "outputs": [
    {
     "ename": "TypeError",
     "evalue": "Cannot cast ufunc multiply output from dtype('float64') to dtype('int64') with casting rule 'same_kind'",
     "output_type": "error",
     "traceback": [
      "\u001b[0;31m---------------------------------------------------------------------------\u001b[0m",
      "\u001b[0;31mTypeError\u001b[0m                                 Traceback (most recent call last)",
      "\u001b[0;32m<ipython-input-12-ba5d44e8434f>\u001b[0m in \u001b[0;36m<module>\u001b[0;34m()\u001b[0m\n\u001b[1;32m      1\u001b[0m \u001b[0mfig\u001b[0m\u001b[0;34m,\u001b[0m \u001b[0max\u001b[0m \u001b[0;34m=\u001b[0m \u001b[0mplt\u001b[0m\u001b[0;34m.\u001b[0m\u001b[0msubplots\u001b[0m\u001b[0;34m(\u001b[0m\u001b[0;34m)\u001b[0m\u001b[0;34m\u001b[0m\u001b[0m\n\u001b[0;32m----> 2\u001b[0;31m \u001b[0mtdc\u001b[0m\u001b[0;34m.\u001b[0m\u001b[0mplot_waveforms\u001b[0m\u001b[0;34m(\u001b[0m\u001b[0mcc\u001b[0m\u001b[0;34m,\u001b[0m \u001b[0mlabels\u001b[0m\u001b[0;34m=\u001b[0m\u001b[0;34m[\u001b[0m\u001b[0;36m0\u001b[0m\u001b[0;34m,\u001b[0m\u001b[0;34m]\u001b[0m\u001b[0;34m,\u001b[0m \u001b[0mratioY\u001b[0m\u001b[0;34m=\u001b[0m\u001b[0;36m1\u001b[0m\u001b[0;34m,\u001b[0m\u001b[0mdeltaX\u001b[0m\u001b[0;34m=\u001b[0m\u001b[0;36m5\u001b[0m\u001b[0;34m,\u001b[0m \u001b[0max\u001b[0m\u001b[0;34m=\u001b[0m\u001b[0max\u001b[0m\u001b[0;34m,\u001b[0m \u001b[0mshow_amplitude\u001b[0m\u001b[0;34m=\u001b[0m\u001b[0;32mTrue\u001b[0m\u001b[0;34m)\u001b[0m\u001b[0;34m\u001b[0m\u001b[0m\n\u001b[0m\u001b[1;32m      3\u001b[0m \u001b[0max\u001b[0m\u001b[0;34m.\u001b[0m\u001b[0mset_xlim\u001b[0m\u001b[0;34m(\u001b[0m\u001b[0;36m0\u001b[0m\u001b[0;34m,\u001b[0m\u001b[0;36m40\u001b[0m\u001b[0;34m)\u001b[0m\u001b[0;34m\u001b[0m\u001b[0m\n\u001b[1;32m      4\u001b[0m \u001b[0max\u001b[0m\u001b[0;34m.\u001b[0m\u001b[0mset_ylim\u001b[0m\u001b[0;34m(\u001b[0m\u001b[0;36m40\u001b[0m\u001b[0;34m,\u001b[0m \u001b[0;36m240\u001b[0m\u001b[0;34m)\u001b[0m\u001b[0;34m\u001b[0m\u001b[0m\n",
      "\u001b[0;32m~/Documents/projet/tridesclous/tridesclous/matplotlibplot.py\u001b[0m in \u001b[0;36mplot_waveforms\u001b[0;34m(cataloguecconstructor, labels, nb_max, **kargs)\u001b[0m\n\u001b[1;32m    183\u001b[0m             \u001b[0mwfs\u001b[0m \u001b[0;34m=\u001b[0m \u001b[0mall_wfs\u001b[0m\u001b[0;34m[\u001b[0m\u001b[0mkeep\u001b[0m\u001b[0;34m]\u001b[0m\u001b[0;34m[\u001b[0m\u001b[0;34m:\u001b[0m\u001b[0mnb_max\u001b[0m\u001b[0;34m]\u001b[0m\u001b[0;34m\u001b[0m\u001b[0m\n\u001b[1;32m    184\u001b[0m             \u001b[0mkargs\u001b[0m\u001b[0;34m[\u001b[0m\u001b[0;34m'color'\u001b[0m\u001b[0;34m]\u001b[0m \u001b[0;34m=\u001b[0m \u001b[0mcc\u001b[0m\u001b[0;34m.\u001b[0m\u001b[0mcolors\u001b[0m\u001b[0;34m.\u001b[0m\u001b[0mget\u001b[0m\u001b[0;34m(\u001b[0m\u001b[0mlabel\u001b[0m\u001b[0;34m,\u001b[0m \u001b[0;34m'k'\u001b[0m\u001b[0;34m)\u001b[0m\u001b[0;34m\u001b[0m\u001b[0m\n\u001b[0;32m--> 185\u001b[0;31m             \u001b[0mplot_waveforms_with_geometry\u001b[0m\u001b[0;34m(\u001b[0m\u001b[0mwfs\u001b[0m\u001b[0;34m,\u001b[0m \u001b[0mchannels\u001b[0m\u001b[0;34m,\u001b[0m \u001b[0mgeometry\u001b[0m\u001b[0;34m,\u001b[0m \u001b[0;34m**\u001b[0m\u001b[0mkargs\u001b[0m\u001b[0;34m)\u001b[0m\u001b[0;34m\u001b[0m\u001b[0m\n\u001b[0m\u001b[1;32m    186\u001b[0m \u001b[0;34m\u001b[0m\u001b[0m\n\u001b[1;32m    187\u001b[0m \u001b[0;34m\u001b[0m\u001b[0m\n",
      "\u001b[0;32m~/Documents/projet/tridesclous/tridesclous/matplotlibplot.py\u001b[0m in \u001b[0;36mplot_waveforms_with_geometry\u001b[0;34m(waveforms, channels, geometry, ax, ratioY, deltaX, margin, color, linewidth, alpha, show_amplitude, ratio_mad, show_ticks, flip_bottom_up, aspect_ratio, xlims, ylims)\u001b[0m\n\u001b[1;32m    102\u001b[0m \u001b[0;34m\u001b[0m\u001b[0m\n\u001b[1;32m    103\u001b[0m     \u001b[0;32mif\u001b[0m \u001b[0mflip_bottom_up\u001b[0m\u001b[0;34m:\u001b[0m\u001b[0;34m\u001b[0m\u001b[0m\n\u001b[0;32m--> 104\u001b[0;31m         \u001b[0mgeometry\u001b[0m\u001b[0;34m[\u001b[0m\u001b[0;34m:\u001b[0m\u001b[0;34m,\u001b[0m \u001b[0;36m1\u001b[0m\u001b[0;34m]\u001b[0m \u001b[0;34m*=\u001b[0m \u001b[0;34m-\u001b[0m\u001b[0;36m1.\u001b[0m\u001b[0;34m\u001b[0m\u001b[0m\n\u001b[0m\u001b[1;32m    105\u001b[0m \u001b[0;34m\u001b[0m\u001b[0m\n\u001b[1;32m    106\u001b[0m     \u001b[0mwf\u001b[0m \u001b[0;34m=\u001b[0m \u001b[0mwaveforms\u001b[0m\u001b[0;34m.\u001b[0m\u001b[0mcopy\u001b[0m\u001b[0;34m(\u001b[0m\u001b[0;34m)\u001b[0m\u001b[0;34m\u001b[0m\u001b[0m\n",
      "\u001b[0;31mTypeError\u001b[0m: Cannot cast ufunc multiply output from dtype('float64') to dtype('int64') with casting rule 'same_kind'"
     ]
    }
   ],
   "source": [
    "fig, ax = plt.subplots()\n",
    "tdc.plot_waveforms(cc, labels=[0,], ratioY=1,deltaX=5, ax=ax, show_amplitude=True)\n",
    "ax.set_xlim(0,40)\n",
    "ax.set_ylim(40, 240)"
   ]
  },
  {
   "cell_type": "code",
   "execution_count": null,
   "metadata": {},
   "outputs": [],
   "source": []
  }
 ],
 "metadata": {
  "kernelspec": {
   "display_name": "Python 3",
   "language": "python",
   "name": "python3"
  },
  "language_info": {
   "codemirror_mode": {
    "name": "ipython",
    "version": 3
   },
   "file_extension": ".py",
   "mimetype": "text/x-python",
   "name": "python",
   "nbconvert_exporter": "python",
   "pygments_lexer": "ipython3",
   "version": "3.6.5"
  }
 },
 "nbformat": 4,
 "nbformat_minor": 2
}
