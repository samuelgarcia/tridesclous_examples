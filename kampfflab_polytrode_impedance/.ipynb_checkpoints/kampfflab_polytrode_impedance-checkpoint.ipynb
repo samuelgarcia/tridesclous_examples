{
 "cells": [
  {
   "cell_type": "markdown",
   "metadata": {},
   "source": [
    "# Kampff lab - Polytrode Impedance\n",
    "\n",
    "\n",
    "Here a description of the dataset:\n",
    "http://www.kampff-lab.org/polytrode-impedance\n",
    "\n",
    "Here the official publication of this open dataset:\n",
    "https://crcns.org/data-sets/methods/evi-1/about-evi-1\n",
    "\n",
    "And the citation:\n",
    "Joana P Neto, Pedro Baião, Gonçalo Lopes, João Frazão, Joana Nogueira, Elvira Fortunato, Pedro Barquinha, Adam R Kampff (2018); Extracellular recordings using a dense electrode array allowing direct comparison of the same neural signal measured with low and high impedance electrodes CRCNS.org\n",
    "http://dx.doi.org/10.6080/K07M064M\n",
    "\n",
    "And a paper on results in Frontier\n",
    "https://doi.org/10.3389/fnins.2018.00715\n",
    "\n",
    "## Introduction\n",
    "\n",
    "\n",
    "For this study they use polytrode aranged in chess board so that 16 of electrodes have a 1Mohm (at 1kHz) impedance and other 16 have 100kohm impedance.\n",
    "\n",
    "The goal of this is notebook is to reproduce the spike sorting pipeline on the dataset.\n",
    "In the official paper in frontier, Joana Neto and co, use kilosort for spike sorting but no public report the result of the dataset.\n",
    "\n",
    "Here is a replicate and reproducible pipeline with tridesclous.\n",
    "\n",
    "This is done only on one file **amplifier2017-02-02T17_18_46** but the same script can be applied easly on other files form teh same dataset.\n",
    "\n",
    "## Download\n",
    "\n",
    "Dataset must downloaded locally and manually from crcns or from the google drive in **\"workdir\"** path.\n",
    "\n"
   ]
  },
  {
   "cell_type": "markdown",
   "metadata": {},
   "source": [
    "## The PRB file\n",
    "tridesclous need a PRB file that describe the geometry of probe.\n",
    "\n",
    "Create it by copy/paste or download it via github.\n",
    "\n",
    "Here I split the probe in 2 groups : \n",
    "  * **0** is 1Mohm electrodes\n",
    "  * **1** is 100kohm electrodes\n",
    "\n",
    "```python\n",
    "channel_groups = {\n",
    "    0: {\n",
    "        'channels':  [0, 24, 1, 10, 25, 15, 11, 26, 14, 12, 27, 8, 13, 28, 9, 2],\n",
    "        'graph' : [],\n",
    "        'geometry': {\n",
    "            0: [18.0, 0.0],\n",
    "            24: [0.0, 37.5],\n",
    "            1: [18.0, 50.],\n",
    "            10: [36., 62.5],\n",
    "            25: [0.0, 87.5],\n",
    "            15: [18.0, 100.0],\n",
    "            11: [36.0, 112.5],\n",
    "            26: [0.0, 137.5],\n",
    "            14: [18.0, 150.0],\n",
    "            12: [36.0, 162.5],\n",
    "            27: [0.0, 187.5],\n",
    "            8: [18.0, 200.0],\n",
    "            13: [36.0, 212.5],\n",
    "            28: [0.0, 237.5],\n",
    "            9: [18.0, 250.0],\n",
    "            2: [36.0, 262.5]\n",
    "        }\n",
    "    },\n",
    "    1: {\n",
    "        'channels':  [31, 7, 21, 30, 6, 20, 16, 5, 19, 17, 4, 18, 23, 3, 29, 22],\n",
    "        'graph' : [],\n",
    "        'geometry': {\n",
    "            31: [18.0, 12.5],\n",
    "            7: [36.0, 37.5],\n",
    "            21: [0.0, 62.5],\n",
    "            30: [18.0, 75.0],\n",
    "            6: [36.0, 87.5],\n",
    "            20: [0.0, 112.5],\n",
    "            16: [18.0, 125.0],\n",
    "            5: [36.0, 137.5],\n",
    "            19: [0.0, 162.5],\n",
    "            17: [18.0, 175.0],\n",
    "            4: [36.0, 187.5],\n",
    "            18: [0.0, 212.5],\n",
    "            23: [18.0, 225.0],\n",
    "            3: [36.0, 237.5],\n",
    "            29: [0.0, 262.5],\n",
    "            22: [18.0, 275.0]\n",
    "        }\n",
    "    }\n",
    "}\n",
    "```"
   ]
  },
  {
   "cell_type": "code",
   "execution_count": 1,
   "metadata": {},
   "outputs": [],
   "source": [
    "# suposing the datset is downloaded here\n",
    "workdir = '/media/samuel/dataspikesorting/DataSpikeSortingHD2/kampff/polytrode Impedance/'\n",
    "filename = workdir + 'amplifier2017-02-02T17_18_46/amplifier2017-02-02T17_18_46.bin'\n"
   ]
  },
  {
   "cell_type": "code",
   "execution_count": 7,
   "metadata": {},
   "outputs": [],
   "source": [
    "%matplotlib inline\n",
    "# %matplotlib qt5\n",
    "import numpy as np\n",
    "import matplotlib.pyplot as plt\n",
    "plt.rcParams['figure.figsize'] = (20.0, 10.0)\n",
    "\n",
    "import tridesclous as tdc\n",
    "from tridesclous import DataIO, CatalogueConstructor, Peeler\n",
    "import os, shutil"
   ]
  },
  {
   "cell_type": "markdown",
   "metadata": {},
   "source": [
    "## create a DataIO (and remove if already exists)"
   ]
  },
  {
   "cell_type": "code",
   "execution_count": 3,
   "metadata": {},
   "outputs": [
    {
     "name": "stdout",
     "output_type": "stream",
     "text": [
      "DataIO <id: 139877298787776> \n",
      "  workdir: /media/samuel/dataspikesorting/DataSpikeSortingHD2/kampff/polytrode Impedance/tdc_amplifier2017-02-02T17_18_46\n",
      "  sample_rate: 20000.0\n",
      "  total_channel: 32\n",
      "  channel_groups: 0 [ch0 ch1 ch2 ch3 ... ch28 ch29 ch30 ch31]\n",
      "  nb_segment: 1\n",
      "  length: 6958592\n",
      "  durations: 347.9 s.\n"
     ]
    }
   ],
   "source": [
    "dirname = workdir + 'tdc_amplifier2017-02-02T17_18_46'\n",
    "\n",
    "if os.path.exists(dirname):\n",
    "    #remove is already exists\n",
    "    # dangerous zone\n",
    "    shutil.rmtree(dirname)\n",
    "    \n",
    "dataio = DataIO(dirname=dirname)\n",
    "\n",
    "# feed DataIO with one file\n",
    "dataio.set_data_source(type='RawData', filenames=[filename],\n",
    "                    sample_rate=20000., dtype='uint16', total_channel=32,\n",
    "                    bit_to_microVolt=0.195)\n",
    "\n",
    "print(dataio)\n",
    "\n",
    "# set the probe file\n",
    "dataio.set_probe_file('kampff_polytrode_impedance_32.prb')"
   ]
  },
  {
   "cell_type": "markdown",
   "metadata": {},
   "source": [
    "## CatalogueConstructor"
   ]
  },
  {
   "cell_type": "code",
   "execution_count": 4,
   "metadata": {},
   "outputs": [
    {
     "name": "stdout",
     "output_type": "stream",
     "text": [
      "compute_all_centroid 0.3519818720014882\n",
      "compute_all_centroid 0.34832894200008013\n",
      "compute_all_centroid 0.13586554100038484\n",
      "order_clusters waveforms_rms\n",
      "CatalogueConstructor\n",
      "  chan_grp 0 - ch0 ch24 ch1 ... ch9 ch2\n",
      "  nb_peak_by_segment: 15354\n",
      "  some_waveforms.shape: (7329, 35, 16)\n",
      "  some_features.shape: (7329, 16)\n",
      "  cluster_labels [-11  -1   0   1   2]\n",
      "\n"
     ]
    }
   ],
   "source": [
    "cc = CatalogueConstructor(dataio=dataio, chan_grp=0)\n",
    "\n",
    "cc.set_preprocessor_params(chunksize=1024, common_ref_removal=False,\n",
    "            highpass_freq=250., lowpass_freq=9500.,                                             \n",
    "            peak_sign='-', relative_threshold=5., peak_span=0.0001)\n",
    "\n",
    "cc.estimate_signals_noise(duration=30.)\n",
    "cc.run_signalprocessor(duration=500.)\n",
    "cc.extract_some_waveforms(n_left=-15, n_right=20, mode='rand', nb_max=10000)\n",
    "cc.clean_waveforms(alien_value_threshold=100.)\n",
    "cc.extract_some_features(method='peak_max')\n",
    "cc.find_clusters(method='sawchaincut')\n",
    "\n",
    "print(cc)\n"
   ]
  },
  {
   "cell_type": "code",
   "execution_count": 8,
   "metadata": {
    "scrolled": true
   },
   "outputs": [
    {
     "name": "stdout",
     "output_type": "stream",
     "text": [
      "\n",
      "Cluster 0\n",
      "Max on channel (abs): 26\n",
      "Max on channel (local to group): 7\n",
      "Peak amplitude MAD: -23.612234115600586\n",
      "Peak amplitude (µV): -193.6790499380082\n",
      "\n",
      "\n"
     ]
    },
    {
     "data": {
      "image/png": "[encoded data removed]",
      "text/plain": [
       "<Figure size 1440x720 with 2 Axes>"
      ]
     },
     "metadata": {},
     "output_type": "display_data"
    }
   ],
   "source": [
    "tdc.summary_clusters(cc, label=0)\n"
   ]
  },
  {
   "cell_type": "code",
   "execution_count": 10,
   "metadata": {},
   "outputs": [],
   "source": [
    "# TODO histwaveforms\n",
    "# plot_waveforms witj microvolts\n",
    "# plot_waveform_withcentroid\n",
    "# print_summary_cluster\n",
    "# plt_summary_cluster\n",
    "\n",
    "\n"
   ]
  },
  {
   "cell_type": "markdown",
   "metadata": {},
   "source": [
    "## construct catalogue"
   ]
  },
  {
   "cell_type": "code",
   "execution_count": 42,
   "metadata": {},
   "outputs": [
    {
     "name": "stdout",
     "output_type": "stream",
     "text": [
      "make_catalogue 0.08496177399865701\n"
     ]
    }
   ],
   "source": [
    "cc.make_catalogue_for_peeler()"
   ]
  },
  {
   "cell_type": "markdown",
   "metadata": {},
   "source": [
    "## apply peeler"
   ]
  },
  {
   "cell_type": "code",
   "execution_count": 44,
   "metadata": {},
   "outputs": [
    {
     "name": "stderr",
     "output_type": "stream",
     "text": [
      "100%|██████████| 6795/6795 [00:25<00:00, 266.57it/s]\n"
     ]
    }
   ],
   "source": [
    "initial_catalogue = dataio.load_catalogue(chan_grp=0)\n",
    "peeler = Peeler(dataio)\n",
    "peeler.change_params(catalogue=initial_catalogue)\n",
    "peeler.run(duration=None, progressbar=True)\n",
    "\n"
   ]
  },
  {
   "cell_type": "code",
   "execution_count": null,
   "metadata": {},
   "outputs": [],
   "source": []
  }
 ],
 "metadata": {
  "kernelspec": {
   "display_name": "Python 3",
   "language": "python",
   "name": "python3"
  },
  "language_info": {
   "codemirror_mode": {
    "name": "ipython",
    "version": 3
   },
   "file_extension": ".py",
   "mimetype": "text/x-python",
   "name": "python",
   "nbconvert_exporter": "python",
   "pygments_lexer": "ipython3",
   "version": "3.6.5"
  }
 },
 "nbformat": 4,
 "nbformat_minor": 2
}
